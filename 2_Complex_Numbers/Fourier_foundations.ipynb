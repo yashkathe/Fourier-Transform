{
  "cells": [
    {
      "cell_type": "markdown",
      "metadata": {
        "id": "vOt-mcc5GkUK"
      },
      "source": [
        "# Foundations of the Fourier transform\n",
        "## This code is for learning the Fourier transform.\n",
        "\n",
        "### mikexcohen.com"
      ]
    },
    {
      "cell_type": "code",
      "execution_count": 1,
      "metadata": {
        "id": "VKXdPwCAGkUO"
      },
      "outputs": [],
      "source": [
        "import numpy as np\n",
        "import math\n",
        "import matplotlib.pyplot as plt\n",
        "import pylab as pl\n",
        "from IPython import display\n",
        "import time as ttime\n",
        "import random\n",
        "from mpl_toolkits.mplot3d import Axes3D"
      ]
    },
    {
      "cell_type": "markdown",
      "metadata": {
        "id": "S5jU0E-LGkUP"
      },
      "source": [
        "\n",
        "---\n",
        "Complex numbers\n",
        "---\n"
      ]
    },
    {
      "cell_type": "code",
      "execution_count": 7,
      "metadata": {
        "id": "iZEGPvJ1GkUQ"
      },
      "outputs": [
        {
          "name": "stdout",
          "output_type": "stream",
          "text": [
            "(4+3j)\n",
            "(4+3j)\n"
          ]
        }
      ],
      "source": [
        "# writing the complex number as real + imaginary\n",
        "z = 4 + 1j*3\n",
        "print(z)\n",
        "\n",
        "# using the function complex\n",
        "z = complex(4,3)    # this way\n",
        "z = complex('4+3j') # or this way\n",
        "print(z)\n"
      ]
    },
    {
      "cell_type": "code",
      "execution_count": 8,
      "metadata": {
        "id": "z4T_ibLDGkUQ"
      },
      "outputs": [
        {
          "data": {
            "image/png": "[encoded data removed]",
            "text/plain": [
              "<Figure size 432x288 with 1 Axes>"
            ]
          },
          "metadata": {
            "needs_background": "light"
          },
          "output_type": "display_data"
        }
      ],
      "source": [
        "# plot the complex number on the complex plane\n",
        "\n",
        "plt.plot(np.real(z),np.imag(z),'ro') # r - red, o - circle\n",
        "\n",
        "# some plotting touch-ups\n",
        "plt.axis('square')\n",
        "plt.axis([-5, 5, -5, 5])\n",
        "plt.grid(True)\n",
        "plt.xlabel('Real axis'), plt.ylabel('Imaginary axis')\n",
        "plt.show()"
      ]
    },
    {
      "cell_type": "code",
      "execution_count": 4,
      "metadata": {
        "id": "734u-YYLGkUR"
      },
      "outputs": [
        {
          "name": "stdout",
          "output_type": "stream",
          "text": [
            "The magnitude is 5.0\n"
          ]
        }
      ],
      "source": [
        "# compute the magnitude of the complex number using Pythagorean theorem\n",
        "mag = np.sqrt( np.real(z)**2 + np.imag(z)**2 )\n",
        "\n",
        "# or using abs\n",
        "mag = np.abs(z)\n",
        "\n",
        "print( 'The magnitude is',mag )"
      ]
    },
    {
      "cell_type": "code",
      "execution_count": 5,
      "metadata": {
        "id": "XVRnn9JgGkUR"
      },
      "outputs": [
        {
          "name": "stdout",
          "output_type": "stream",
          "text": [
            "The angle is 0.6435011087932844\n"
          ]
        }
      ],
      "source": [
        "# compute the angle of the complex number using Pythagorean theorem\n",
        "phs = math.atan( np.imag(z) / np.real(z) )\n",
        "\n",
        "# or using abs\n",
        "phs = np.angle(z)\n",
        "\n",
        "print( 'The angle is',phs )"
      ]
    },
    {
      "cell_type": "markdown",
      "metadata": {
        "id": "Fi3rUNWOGkUS"
      },
      "source": [
        "\n",
        "---\n",
        "# Euler's formula\n",
        "---\n"
      ]
    },
    {
      "cell_type": "code",
      "execution_count": 6,
      "metadata": {
        "id": "MXuciMbTGkUS"
      },
      "outputs": [
        {
          "data": {
            "image/png": "[encoded data removed]",
            "text/plain": [
              "<Figure size 432x288 with 1 Axes>"
            ]
          },
          "metadata": {
            "needs_background": "light"
          },
          "output_type": "display_data"
        }
      ],
      "source": [
        "x = np.linspace(-3,3,num=50)\n",
        "\n",
        "plt.plot(x,np.exp(x),label='y=e^x')\n",
        "\n",
        "# some plotting touch-ups\n",
        "plt.axis([min(x),max(x),0,np.exp(x[-1])])\n",
        "plt.grid(True)\n",
        "plt.legend()\n",
        "plt.xlabel('x')\n",
        "plt.show()\n"
      ]
    },
    {
      "cell_type": "code",
      "execution_count": 9,
      "metadata": {
        "id": "7PXauLWDGkUS"
      },
      "outputs": [
        {
          "data": {
            "image/png": "[encoded data removed]",
            "text/plain": [
              "<Figure size 432x288 with 1 Axes>"
            ]
          },
          "metadata": {
            "needs_background": "light"
          },
          "output_type": "display_data"
        }
      ],
      "source": [
        "# [cos(k),sin(k)] is on the unit circle for any real k\n",
        "\n",
        "# define k (any real number)\n",
        "k = 2/np.pi\n",
        "\n",
        "# Euler's notation\n",
        "euler = np.exp(1j*k)\n",
        "\n",
        "# plot dot\n",
        "plt.plot(np.cos(k),np.sin(k),'ro')\n",
        "\n",
        "# draw unit circle for reference\n",
        "x = np.linspace(-np.pi,np.pi,num=100)\n",
        "plt.plot(np.cos(x),np.sin(x))\n",
        "\n",
        "# some plotting touch-ups\n",
        "plt.axis('square')\n",
        "plt.grid(True)\n",
        "plt.xlabel('Real axis'), plt.ylabel('Imaginary axis')\n",
        "plt.show()"
      ]
    },
    {
      "cell_type": "code",
      "execution_count": 10,
      "metadata": {
        "id": "Ftd-iPWzGkUT"
      },
      "outputs": [
        {
          "data": {
            "image/png": "[encoded data removed]",
            "text/plain": [
              "<Figure size 432x288 with 1 Axes>"
            ]
          },
          "metadata": {
            "needs_background": "light"
          },
          "output_type": "display_data"
        }
      ],
      "source": [
        "# Euler's formula with arbitrary vector magnitude\n",
        "\n",
        "m = 4; # magnitude\n",
        "k = np.pi/3; # phase\n",
        "compnum = m*np.exp( 1j*k );\n",
        "\n",
        "# extract magnitude and angle\n",
        "mag = np.abs(compnum);\n",
        "phs = np.angle(compnum);\n",
        "\n",
        "plt.polar([phs,phs],[0,mag])\n",
        "plt.show()"
      ]
    },
    {
      "cell_type": "markdown",
      "metadata": {
        "id": "IXCC82I_GkUT"
      },
      "source": [
        "\n",
        "\n",
        "---\n",
        "# Sine waves and complex sine waves\n",
        "---\n",
        "\n"
      ]
    },
    {
      "cell_type": "code",
      "execution_count": null,
      "metadata": {
        "id": "25mTGa22GkUT"
      },
      "outputs": [],
      "source": [
        "# simulation parameters\n",
        "srate = 500; # sampling rate in Hz\n",
        "time  = np.arange(0.,2.,1./srate) # time in seconds\n",
        "\n",
        "# sine wave param.eters\n",
        "freq = 3;    # frequency in Hz\n",
        "ampl = 2;    # amplitude in a.u.\n",
        "phas = np.pi/3; # phase in radians\n",
        "\n",
        "# generate the sine wave\n",
        "sinewave = ampl * np.sin( 2*np.pi * freq * time + phas )\n",
        "\n",
        "plt.plot(time,sinewave,'k')\n",
        "plt.xlabel('Time (sec.)')\n",
        "plt.ylabel('Amplitude (a.u.)')\n",
        "plt.show()"
      ]
    },
    {
      "cell_type": "code",
      "execution_count": null,
      "metadata": {
        "id": "qJ-mPL3WGkUT"
      },
      "outputs": [],
      "source": [
        "# sine and cosine are the same but for a phase shift\n",
        "\n",
        "# generate the sine wave\n",
        "sinewave = ampl * np.sin( 2*np.pi * freq * time + phas )\n",
        "coswave  = ampl * np.cos( 2*np.pi * freq * time + phas )\n",
        "\n",
        "plt.plot(time,sinewave,'k',label='sine')\n",
        "plt.plot(time,coswave,'r',label='cosine')\n",
        "plt.xlabel('Time (sec.)'), plt.ylabel('Amplitude')\n",
        "plt.title('A sine and cosine with the same parameters.')\n",
        "plt.show()"
      ]
    },
    {
      "cell_type": "code",
      "execution_count": null,
      "metadata": {
        "id": "RMnURw6iGkUU"
      },
      "outputs": [],
      "source": [
        "# complex sine waves\n",
        "\n",
        "# general simulation parameters\n",
        "srate = 500; # sampling rate in Hz\n",
        "time  = np.arange(0.,2.,1./srate) # time in seconds\n",
        "\n",
        "# sine wave parameters\n",
        "freq = 5;    # frequency in Hz\n",
        "ampl = 2;    # amplitude in a.u.\n",
        "phas = np.pi/3; # phase in radians\n",
        "\n",
        "# generate the sine wave\n",
        "csw = ampl * np.exp( 1j* (2*np.pi * freq * time + phas) );\n",
        "\n",
        "# plot the results\n",
        "plt.plot(time,np.real(csw),label='real')\n",
        "plt.plot(time,np.imag(csw),label='imag')\n",
        "plt.xlabel('Time (sec.)'), plt.ylabel('Amplitude')\n",
        "plt.title('Complex sine wave projections')\n",
        "plt.legend()\n",
        "plt.show()\n"
      ]
    },
    {
      "cell_type": "code",
      "execution_count": null,
      "metadata": {
        "id": "pe98Lbu8GkUU"
      },
      "outputs": [],
      "source": [
        "# now show in 3D\n",
        "fig = plt.figure()\n",
        "ax = fig.add_subplot(projection='3d')\n",
        "ax.plot(time,np.real(csw),np.imag(csw))\n",
        "ax.set_xlabel('Time (s)'), ax.set_ylabel('Real part'), ax.set_zlabel('Imag part')\n",
        "ax.set_title('Complex sine wave in all its 3D glory')\n",
        "plt.show()"
      ]
    },
    {
      "cell_type": "markdown",
      "metadata": {
        "id": "nga32hEaGkUU"
      },
      "source": [
        "\n",
        "---\n",
        "# The dot product\n",
        "---\n"
      ]
    },
    {
      "cell_type": "code",
      "execution_count": null,
      "metadata": {
        "id": "5zV0vuoOGkUU"
      },
      "outputs": [],
      "source": [
        "# two vectors\n",
        "v1 = [ 1, 2, 3 ];\n",
        "v2 = [ 3, 2, 1 ];\n",
        "\n",
        "# compute the dot product\n",
        "dp = sum( np.multiply(v1,v2) )\n",
        "\n",
        "print('The dot product is',dp)"
      ]
    },
    {
      "cell_type": "code",
      "execution_count": null,
      "metadata": {
        "id": "SjrZaYbtGkUU"
      },
      "outputs": [],
      "source": [
        "# dot products of sine waves\n",
        "\n",
        "# general simulation parameters\n",
        "srate = 500; # sampling rate in Hz\n",
        "time  = np.arange(0.,2.,1./srate) # time in seconds\n",
        "\n",
        "# sine wave parameters\n",
        "freq1 = 5;    # frequency in Hz\n",
        "freq2 = 5;    # frequency in Hz\n",
        "\n",
        "ampl1 = 2;    # amplitude in a.u.\n",
        "ampl2 = 2;    # amplitude in a.u.\n",
        "\n",
        "phas1 = np.pi/2; # phase in radians\n",
        "phas2 = np.pi/2; # phase in radians\n",
        "\n",
        "# generate the sine wave\n",
        "sinewave1 = ampl1 * np.sin( 2*np.pi * freq1 * time + phas1 );\n",
        "sinewave2 = ampl2 * np.sin( 2*np.pi * freq2 * time + phas2 );\n",
        "\n",
        "# compute dot product\n",
        "dp = np.dot(sinewave1,sinewave2);\n",
        "\n",
        "# print result\n",
        "print('dp =',dp)"
      ]
    },
    {
      "cell_type": "code",
      "execution_count": null,
      "metadata": {
        "id": "X4nUwJeQGkUU"
      },
      "outputs": [],
      "source": [
        "# with a signal\n",
        "\n",
        "# phase of signal\n",
        "theta = 0*np.pi/4;\n",
        "\n",
        "\n",
        "# simulation parameters\n",
        "srate = 1000;\n",
        "time  = np.arange(-1.,1.,1./srate)\n",
        "\n",
        "# signal\n",
        "sinew  = np.sin(2*np.pi*5*time + theta)\n",
        "gauss  = np.exp( (-time**2) / .1);\n",
        "signal = np.multiply(sinew,gauss)\n",
        "\n",
        "# sine wave frequencies\n",
        "sinefrex = np.arange(2.,10.,.5);\n",
        "\n",
        "# plot signal\n",
        "plt.plot(time,signal)\n",
        "plt.xlabel('Time (sec.)'), plt.ylabel('Amplitude (a.u.)')\n",
        "plt.title('Signal')\n",
        "plt.show()\n",
        "\n",
        "\n",
        "\n",
        "# initialize dot products vector\n",
        "dps = np.zeros(len(sinefrex));\n",
        "\n",
        "# loop over sine waves\n",
        "for fi in range(len(dps)):\n",
        "\n",
        "    # create sine wave\n",
        "    sinew = np.sin( 2*np.pi*sinefrex[fi]*time)\n",
        "\n",
        "    # compute dot product\n",
        "    dps[fi] = np.dot( sinew,signal ) / len(time)\n",
        "\n",
        "\n",
        "# and plot\n",
        "plt.stem(sinefrex,dps)\n",
        "plt.xlabel('Sine wave frequency (Hz)'), plt.ylabel('Dot product')\n",
        "plt.title('Dot products with sine waves')\n",
        "plt.show()"
      ]
    },
    {
      "cell_type": "markdown",
      "metadata": {
        "id": "BvF-72yiGkUU"
      },
      "source": [
        "\n",
        "---\n",
        "# The complex dot product\n",
        "---\n"
      ]
    },
    {
      "cell_type": "code",
      "execution_count": null,
      "metadata": {
        "id": "WPl9gGUXGkUU"
      },
      "outputs": [],
      "source": [
        "# phase of signal\n",
        "theta = 0*np.pi/4;\n",
        "\n",
        "\n",
        "# simulation parameters\n",
        "srate = 1000;\n",
        "time  = np.arange(-1.,1.,1./srate)\n",
        "\n",
        "# signal\n",
        "sinew  = np.sin(2*np.pi*5*time + theta)\n",
        "gauss  = np.exp( (-time**2) / .1);\n",
        "signal = np.multiply(sinew,gauss)\n",
        "\n",
        "\n",
        "# sine wave frequencies\n",
        "sinefrex = np.arange(2.,10.,.5);\n",
        "\n",
        "# plot signal\n",
        "plt.plot(time,signal)\n",
        "plt.xlabel('Time (sec.)'), plt.ylabel('Amplitude (a.u.)')\n",
        "plt.title('Signal')\n",
        "plt.show()\n",
        "\n",
        "\n",
        "\n",
        "# initialize dot products vector\n",
        "dps = np.zeros(len(sinefrex),dtype=complex)\n",
        "\n",
        "# loop over sine waves\n",
        "for fi in range(len(dps)):\n",
        "\n",
        "    # create sine wave\n",
        "    sinew = np.exp( 1j*2*np.pi*sinefrex[fi]*time )\n",
        "\n",
        "    # compute dot product\n",
        "    dps[fi] = np.abs( np.vdot( sinew,signal ) / len(time) )\n",
        "\n",
        "\n",
        "# and plot\n",
        "plt.stem(sinefrex,dps)\n",
        "plt.xlabel('Sine wave frequency (Hz)'), plt.ylabel('Dot product')\n",
        "plt.title('Dot products with sine waves')\n",
        "plt.show()"
      ]
    },
    {
      "cell_type": "code",
      "execution_count": null,
      "metadata": {
        "id": "Qil-taUSGkUV"
      },
      "outputs": [],
      "source": [
        "# in more detail...\n",
        "\n",
        "# phase of signal\n",
        "theta = 1*np.pi/4;\n",
        "\n",
        "# signal\n",
        "sinew  = np.sin(2*np.pi*5*time + theta)\n",
        "gauss  = np.exp( (-time**2) / .1)\n",
        "signal = np.multiply(sinew,gauss)\n",
        "\n",
        "# create sine and cosine waves\n",
        "sinew = np.sin( 2*np.pi*5*time )\n",
        "cosnw = np.cos( 2*np.pi*5*time )\n",
        "\n",
        "# compute dot products\n",
        "dps = np.dot( sinew,signal ) / len(time)\n",
        "dpc = np.dot( cosnw,signal ) / len(time)\n",
        "\n",
        "# combine sine and cosine into complex dot product\n",
        "dp_complex = complex(dpc,dps) # cos/sin were swapped in the video\n",
        "mag = np.abs(dp_complex)\n",
        "phs = np.angle(dp_complex)\n",
        "\n",
        "# and plot\n",
        "plt.plot( dpc , dps ,'ro')\n",
        "plt.xlabel('Cosine axis')\n",
        "plt.ylabel('Sine axis')\n",
        "plt.axis('square')\n",
        "plt.grid(True)\n",
        "plt.axis([-.2,.2,-.2,.2])\n",
        "plt.show()\n",
        "\n",
        "# draw a line using polar notation\n",
        "plt.polar([phs,phs],[0,mag])\n",
        "plt.show()"
      ]
    },
    {
      "cell_type": "code",
      "execution_count": null,
      "metadata": {
        "id": "VKD0b6zZGkUV"
      },
      "outputs": [],
      "source": [
        "## illustration of the effect of phase offsets on dot products\n",
        "\n",
        "# create complex sine wave\n",
        "csw = np.exp( 1j*2*np.pi*5*time )\n",
        "rsw = np.sin(    2*np.pi*5*time )\n",
        "\n",
        "# specify range of phase offsets for signal\n",
        "phases = np.linspace(0,7*np.pi/2,num=100)\n",
        "\n",
        "\n",
        "for phi in range(0,len(phases)):\n",
        "\n",
        "    # create signal\n",
        "    sinew  = np.sin(2*np.pi*5*time + phases[phi])\n",
        "    gauss  = np.exp( (-time**2) / .1)\n",
        "    signal = np.multiply(sinew,gauss)\n",
        "\n",
        "    # compute complex dot product\n",
        "    cdp = np.sum( np.multiply(signal,csw) ) / len(time)\n",
        "\n",
        "    # compute real-valued dot product\n",
        "    rdp = sum( np.multiply(signal,rsw) ) / len(time)\n",
        "\n",
        "    # plot signal and real part of sine wave\n",
        "    pl.cla() # wipe the figure\n",
        "    plt.subplot2grid((2,2), (0, 0), colspan=2)\n",
        "    plt.plot(time,signal)\n",
        "    plt.plot(time,rsw)\n",
        "    plt.title('Signal and sine wave over time')\n",
        "\n",
        "    # plot complex dot product\n",
        "    plt.subplot2grid((2,2), (1, 0))\n",
        "    plt.plot(np.real(cdp),np.imag(cdp),'ro')\n",
        "    plt.xlabel('Real')\n",
        "    plt.ylabel('Imaginary')\n",
        "    plt.axis('square')\n",
        "    plt.grid(True)\n",
        "    plt.axis([-.2,.2,-.2,.2])\n",
        "    plt.plot([0,np.real(cdp)],[0,np.imag(cdp)],'r')\n",
        "\n",
        "\n",
        "    # draw normal dot product\n",
        "    plt.subplot2grid((2,2), (1, 1))\n",
        "    plt.plot(rdp,0,'ro')\n",
        "    plt.xlabel('Real')\n",
        "    plt.axis('square')\n",
        "    plt.grid(True)\n",
        "    plt.axis([-.2,.2,-.2,.2])\n",
        "\n",
        "\n",
        "    # show plot\n",
        "    display.clear_output(wait=True)\n",
        "    display.display(pl.gcf())\n",
        "    ttime.sleep(.01)\n"
      ]
    }
  ],
  "metadata": {
    "colab": {
      "provenance": []
    },
    "kernelspec": {
      "display_name": "Python 3 (ipykernel)",
      "language": "python",
      "name": "python3"
    },
    "language_info": {
      "codemirror_mode": {
        "name": "ipython",
        "version": 3
      },
      "file_extension": ".py",
      "mimetype": "text/x-python",
      "name": "python",
      "nbconvert_exporter": "python",
      "pygments_lexer": "ipython3",
      "version": "3.10.12"
    }
  },
  "nbformat": 4,
  "nbformat_minor": 0
}
